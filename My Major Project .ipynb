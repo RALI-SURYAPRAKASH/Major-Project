{
 "cells": [
  {
   "cell_type": "markdown",
   "id": "34d4642b",
   "metadata": {},
   "source": [
    "#  MACHINE LEARNING MODEL TO PREDICT THE INCOME"
   ]
  },
  {
   "cell_type": "markdown",
   "id": "a55d6fec",
   "metadata": {},
   "source": [
    "## Importing Libraries\n"
   ]
  },
  {
   "cell_type": "code",
   "execution_count": 215,
   "id": "a2ce7a17",
   "metadata": {},
   "outputs": [],
   "source": [
    "import pandas as pd \n",
    "import numpy as np\n",
    "import seaborn as sns\n",
    "import matplotlib.pyplot as plt \n",
    "import warnings\n",
    "warnings.filterwarnings('ignore')"
   ]
  },
  {
   "cell_type": "markdown",
   "id": "f0db43ef",
   "metadata": {},
   "source": [
    "## Importing Dataset"
   ]
  },
  {
   "cell_type": "code",
   "execution_count": 216,
   "id": "9abf9604",
   "metadata": {},
   "outputs": [
    {
     "data": {
      "text/html": [
       "<div>\n",
       "<style scoped>\n",
       "    .dataframe tbody tr th:only-of-type {\n",
       "        vertical-align: middle;\n",
       "    }\n",
       "\n",
       "    .dataframe tbody tr th {\n",
       "        vertical-align: top;\n",
       "    }\n",
       "\n",
       "    .dataframe thead th {\n",
       "        text-align: right;\n",
       "    }\n",
       "</style>\n",
       "<table border=\"1\" class=\"dataframe\">\n",
       "  <thead>\n",
       "    <tr style=\"text-align: right;\">\n",
       "      <th></th>\n",
       "      <th>39</th>\n",
       "      <th>State-gov</th>\n",
       "      <th>77516</th>\n",
       "      <th>Bachelors</th>\n",
       "      <th>13</th>\n",
       "      <th>Never-married</th>\n",
       "      <th>Adm-clerical</th>\n",
       "      <th>Not-in-family</th>\n",
       "      <th>White</th>\n",
       "      <th>Male</th>\n",
       "      <th>2174</th>\n",
       "      <th>0</th>\n",
       "      <th>40</th>\n",
       "      <th>United-States</th>\n",
       "      <th>&lt;=50K</th>\n",
       "    </tr>\n",
       "  </thead>\n",
       "  <tbody>\n",
       "    <tr>\n",
       "      <th>0</th>\n",
       "      <td>50</td>\n",
       "      <td>Self-emp-not-inc</td>\n",
       "      <td>83311</td>\n",
       "      <td>Bachelors</td>\n",
       "      <td>13</td>\n",
       "      <td>Married-civ-spouse</td>\n",
       "      <td>Exec-managerial</td>\n",
       "      <td>Husband</td>\n",
       "      <td>White</td>\n",
       "      <td>Male</td>\n",
       "      <td>0</td>\n",
       "      <td>0</td>\n",
       "      <td>13</td>\n",
       "      <td>United-States</td>\n",
       "      <td>&lt;=50K</td>\n",
       "    </tr>\n",
       "    <tr>\n",
       "      <th>1</th>\n",
       "      <td>38</td>\n",
       "      <td>Private</td>\n",
       "      <td>215646</td>\n",
       "      <td>HS-grad</td>\n",
       "      <td>9</td>\n",
       "      <td>Divorced</td>\n",
       "      <td>Handlers-cleaners</td>\n",
       "      <td>Not-in-family</td>\n",
       "      <td>White</td>\n",
       "      <td>Male</td>\n",
       "      <td>0</td>\n",
       "      <td>0</td>\n",
       "      <td>40</td>\n",
       "      <td>United-States</td>\n",
       "      <td>&lt;=50K</td>\n",
       "    </tr>\n",
       "    <tr>\n",
       "      <th>2</th>\n",
       "      <td>53</td>\n",
       "      <td>Private</td>\n",
       "      <td>234721</td>\n",
       "      <td>11th</td>\n",
       "      <td>7</td>\n",
       "      <td>Married-civ-spouse</td>\n",
       "      <td>Handlers-cleaners</td>\n",
       "      <td>Husband</td>\n",
       "      <td>Black</td>\n",
       "      <td>Male</td>\n",
       "      <td>0</td>\n",
       "      <td>0</td>\n",
       "      <td>40</td>\n",
       "      <td>United-States</td>\n",
       "      <td>&lt;=50K</td>\n",
       "    </tr>\n",
       "    <tr>\n",
       "      <th>3</th>\n",
       "      <td>28</td>\n",
       "      <td>Private</td>\n",
       "      <td>338409</td>\n",
       "      <td>Bachelors</td>\n",
       "      <td>13</td>\n",
       "      <td>Married-civ-spouse</td>\n",
       "      <td>Prof-specialty</td>\n",
       "      <td>Wife</td>\n",
       "      <td>Black</td>\n",
       "      <td>Female</td>\n",
       "      <td>0</td>\n",
       "      <td>0</td>\n",
       "      <td>40</td>\n",
       "      <td>Cuba</td>\n",
       "      <td>&lt;=50K</td>\n",
       "    </tr>\n",
       "    <tr>\n",
       "      <th>4</th>\n",
       "      <td>37</td>\n",
       "      <td>Private</td>\n",
       "      <td>284582</td>\n",
       "      <td>Masters</td>\n",
       "      <td>14</td>\n",
       "      <td>Married-civ-spouse</td>\n",
       "      <td>Exec-managerial</td>\n",
       "      <td>Wife</td>\n",
       "      <td>White</td>\n",
       "      <td>Female</td>\n",
       "      <td>0</td>\n",
       "      <td>0</td>\n",
       "      <td>40</td>\n",
       "      <td>United-States</td>\n",
       "      <td>&lt;=50K</td>\n",
       "    </tr>\n",
       "    <tr>\n",
       "      <th>...</th>\n",
       "      <td>...</td>\n",
       "      <td>...</td>\n",
       "      <td>...</td>\n",
       "      <td>...</td>\n",
       "      <td>...</td>\n",
       "      <td>...</td>\n",
       "      <td>...</td>\n",
       "      <td>...</td>\n",
       "      <td>...</td>\n",
       "      <td>...</td>\n",
       "      <td>...</td>\n",
       "      <td>...</td>\n",
       "      <td>...</td>\n",
       "      <td>...</td>\n",
       "      <td>...</td>\n",
       "    </tr>\n",
       "    <tr>\n",
       "      <th>32555</th>\n",
       "      <td>27</td>\n",
       "      <td>Private</td>\n",
       "      <td>257302</td>\n",
       "      <td>Assoc-acdm</td>\n",
       "      <td>12</td>\n",
       "      <td>Married-civ-spouse</td>\n",
       "      <td>Tech-support</td>\n",
       "      <td>Wife</td>\n",
       "      <td>White</td>\n",
       "      <td>Female</td>\n",
       "      <td>0</td>\n",
       "      <td>0</td>\n",
       "      <td>38</td>\n",
       "      <td>United-States</td>\n",
       "      <td>&lt;=50K</td>\n",
       "    </tr>\n",
       "    <tr>\n",
       "      <th>32556</th>\n",
       "      <td>40</td>\n",
       "      <td>Private</td>\n",
       "      <td>154374</td>\n",
       "      <td>HS-grad</td>\n",
       "      <td>9</td>\n",
       "      <td>Married-civ-spouse</td>\n",
       "      <td>Machine-op-inspct</td>\n",
       "      <td>Husband</td>\n",
       "      <td>White</td>\n",
       "      <td>Male</td>\n",
       "      <td>0</td>\n",
       "      <td>0</td>\n",
       "      <td>40</td>\n",
       "      <td>United-States</td>\n",
       "      <td>&gt;50K</td>\n",
       "    </tr>\n",
       "    <tr>\n",
       "      <th>32557</th>\n",
       "      <td>58</td>\n",
       "      <td>Private</td>\n",
       "      <td>151910</td>\n",
       "      <td>HS-grad</td>\n",
       "      <td>9</td>\n",
       "      <td>Widowed</td>\n",
       "      <td>Adm-clerical</td>\n",
       "      <td>Unmarried</td>\n",
       "      <td>White</td>\n",
       "      <td>Female</td>\n",
       "      <td>0</td>\n",
       "      <td>0</td>\n",
       "      <td>40</td>\n",
       "      <td>United-States</td>\n",
       "      <td>&lt;=50K</td>\n",
       "    </tr>\n",
       "    <tr>\n",
       "      <th>32558</th>\n",
       "      <td>22</td>\n",
       "      <td>Private</td>\n",
       "      <td>201490</td>\n",
       "      <td>HS-grad</td>\n",
       "      <td>9</td>\n",
       "      <td>Never-married</td>\n",
       "      <td>Adm-clerical</td>\n",
       "      <td>Own-child</td>\n",
       "      <td>White</td>\n",
       "      <td>Male</td>\n",
       "      <td>0</td>\n",
       "      <td>0</td>\n",
       "      <td>20</td>\n",
       "      <td>United-States</td>\n",
       "      <td>&lt;=50K</td>\n",
       "    </tr>\n",
       "    <tr>\n",
       "      <th>32559</th>\n",
       "      <td>52</td>\n",
       "      <td>Self-emp-inc</td>\n",
       "      <td>287927</td>\n",
       "      <td>HS-grad</td>\n",
       "      <td>9</td>\n",
       "      <td>Married-civ-spouse</td>\n",
       "      <td>Exec-managerial</td>\n",
       "      <td>Wife</td>\n",
       "      <td>White</td>\n",
       "      <td>Female</td>\n",
       "      <td>15024</td>\n",
       "      <td>0</td>\n",
       "      <td>40</td>\n",
       "      <td>United-States</td>\n",
       "      <td>&gt;50K</td>\n",
       "    </tr>\n",
       "  </tbody>\n",
       "</table>\n",
       "<p>32560 rows × 15 columns</p>\n",
       "</div>"
      ],
      "text/plain": [
       "       39          State-gov   77516    Bachelors   13        Never-married  \\\n",
       "0      50   Self-emp-not-inc   83311    Bachelors   13   Married-civ-spouse   \n",
       "1      38            Private  215646      HS-grad    9             Divorced   \n",
       "2      53            Private  234721         11th    7   Married-civ-spouse   \n",
       "3      28            Private  338409    Bachelors   13   Married-civ-spouse   \n",
       "4      37            Private  284582      Masters   14   Married-civ-spouse   \n",
       "...    ..                ...     ...          ...  ...                  ...   \n",
       "32555  27            Private  257302   Assoc-acdm   12   Married-civ-spouse   \n",
       "32556  40            Private  154374      HS-grad    9   Married-civ-spouse   \n",
       "32557  58            Private  151910      HS-grad    9              Widowed   \n",
       "32558  22            Private  201490      HS-grad    9        Never-married   \n",
       "32559  52       Self-emp-inc  287927      HS-grad    9   Married-civ-spouse   \n",
       "\n",
       "             Adm-clerical   Not-in-family   White     Male   2174   0   40  \\\n",
       "0         Exec-managerial         Husband   White     Male      0   0   13   \n",
       "1       Handlers-cleaners   Not-in-family   White     Male      0   0   40   \n",
       "2       Handlers-cleaners         Husband   Black     Male      0   0   40   \n",
       "3          Prof-specialty            Wife   Black   Female      0   0   40   \n",
       "4         Exec-managerial            Wife   White   Female      0   0   40   \n",
       "...                   ...             ...     ...      ...    ...  ..  ...   \n",
       "32555        Tech-support            Wife   White   Female      0   0   38   \n",
       "32556   Machine-op-inspct         Husband   White     Male      0   0   40   \n",
       "32557        Adm-clerical       Unmarried   White   Female      0   0   40   \n",
       "32558        Adm-clerical       Own-child   White     Male      0   0   20   \n",
       "32559     Exec-managerial            Wife   White   Female  15024   0   40   \n",
       "\n",
       "        United-States   <=50K  \n",
       "0       United-States   <=50K  \n",
       "1       United-States   <=50K  \n",
       "2       United-States   <=50K  \n",
       "3                Cuba   <=50K  \n",
       "4       United-States   <=50K  \n",
       "...               ...     ...  \n",
       "32555   United-States   <=50K  \n",
       "32556   United-States    >50K  \n",
       "32557   United-States   <=50K  \n",
       "32558   United-States   <=50K  \n",
       "32559   United-States    >50K  \n",
       "\n",
       "[32560 rows x 15 columns]"
      ]
     },
     "execution_count": 216,
     "metadata": {},
     "output_type": "execute_result"
    }
   ],
   "source": [
    "my_data=pd.read_csv(\"Downloads/adult.csv\")\n",
    "my_data"
   ]
  },
  {
   "cell_type": "markdown",
   "id": "e66557c9",
   "metadata": {},
   "source": [
    "# 1) Rename the columns"
   ]
  },
  {
   "cell_type": "markdown",
   "id": "571f48fd",
   "metadata": {},
   "source": [
    "#### Before renaming the column names"
   ]
  },
  {
   "cell_type": "code",
   "execution_count": 217,
   "id": "a1bb1384",
   "metadata": {},
   "outputs": [
    {
     "name": "stdout",
     "output_type": "stream",
     "text": [
      " The column names before renaming are :\n",
      " Index(['39', ' State-gov', ' 77516', ' Bachelors', ' 13', ' Never-married',\n",
      "       ' Adm-clerical', ' Not-in-family', ' White', ' Male', ' 2174', ' 0',\n",
      "       ' 40', ' United-States', ' <=50K'],\n",
      "      dtype='object')\n"
     ]
    }
   ],
   "source": [
    "print (\" The column names before renaming are :\\n\",my_data.columns)"
   ]
  },
  {
   "cell_type": "markdown",
   "id": "f45e46a6",
   "metadata": {},
   "source": [
    "#### After renaming the column names"
   ]
  },
  {
   "cell_type": "code",
   "execution_count": 218,
   "id": "20ad8131",
   "metadata": {},
   "outputs": [
    {
     "name": "stdout",
     "output_type": "stream",
     "text": [
      "The column names after renaming are :\n",
      " Index(['Age', 'Workclass', 'Fnlwgt', 'Education', 'edcation_num',\n",
      "       'marital_status', 'occupation', 'relationship', 'race', 'sex',\n",
      "       'capital_gain', 'capital_loss', 'hours_per_week', 'native_country',\n",
      "       'income'],\n",
      "      dtype='object')\n"
     ]
    }
   ],
   "source": [
    "my_data.columns = ['Age','Workclass','Fnlwgt','Education','edcation_num','marital_status','occupation','relationship','race','sex','capital_gain','capital_loss','hours_per_week','native_country','income']\n",
    "print(\"The column names after renaming are :\\n\",my_data.columns)"
   ]
  },
  {
   "cell_type": "code",
   "execution_count": 219,
   "id": "bab8696b",
   "metadata": {},
   "outputs": [
    {
     "data": {
      "text/html": [
       "<div>\n",
       "<style scoped>\n",
       "    .dataframe tbody tr th:only-of-type {\n",
       "        vertical-align: middle;\n",
       "    }\n",
       "\n",
       "    .dataframe tbody tr th {\n",
       "        vertical-align: top;\n",
       "    }\n",
       "\n",
       "    .dataframe thead th {\n",
       "        text-align: right;\n",
       "    }\n",
       "</style>\n",
       "<table border=\"1\" class=\"dataframe\">\n",
       "  <thead>\n",
       "    <tr style=\"text-align: right;\">\n",
       "      <th></th>\n",
       "      <th>Age</th>\n",
       "      <th>Workclass</th>\n",
       "      <th>Fnlwgt</th>\n",
       "      <th>Education</th>\n",
       "      <th>edcation_num</th>\n",
       "      <th>marital_status</th>\n",
       "      <th>occupation</th>\n",
       "      <th>relationship</th>\n",
       "      <th>race</th>\n",
       "      <th>sex</th>\n",
       "      <th>capital_gain</th>\n",
       "      <th>capital_loss</th>\n",
       "      <th>hours_per_week</th>\n",
       "      <th>native_country</th>\n",
       "      <th>income</th>\n",
       "    </tr>\n",
       "  </thead>\n",
       "  <tbody>\n",
       "    <tr>\n",
       "      <th>0</th>\n",
       "      <td>50</td>\n",
       "      <td>Self-emp-not-inc</td>\n",
       "      <td>83311</td>\n",
       "      <td>Bachelors</td>\n",
       "      <td>13</td>\n",
       "      <td>Married-civ-spouse</td>\n",
       "      <td>Exec-managerial</td>\n",
       "      <td>Husband</td>\n",
       "      <td>White</td>\n",
       "      <td>Male</td>\n",
       "      <td>0</td>\n",
       "      <td>0</td>\n",
       "      <td>13</td>\n",
       "      <td>United-States</td>\n",
       "      <td>&lt;=50K</td>\n",
       "    </tr>\n",
       "    <tr>\n",
       "      <th>1</th>\n",
       "      <td>38</td>\n",
       "      <td>Private</td>\n",
       "      <td>215646</td>\n",
       "      <td>HS-grad</td>\n",
       "      <td>9</td>\n",
       "      <td>Divorced</td>\n",
       "      <td>Handlers-cleaners</td>\n",
       "      <td>Not-in-family</td>\n",
       "      <td>White</td>\n",
       "      <td>Male</td>\n",
       "      <td>0</td>\n",
       "      <td>0</td>\n",
       "      <td>40</td>\n",
       "      <td>United-States</td>\n",
       "      <td>&lt;=50K</td>\n",
       "    </tr>\n",
       "    <tr>\n",
       "      <th>2</th>\n",
       "      <td>53</td>\n",
       "      <td>Private</td>\n",
       "      <td>234721</td>\n",
       "      <td>11th</td>\n",
       "      <td>7</td>\n",
       "      <td>Married-civ-spouse</td>\n",
       "      <td>Handlers-cleaners</td>\n",
       "      <td>Husband</td>\n",
       "      <td>Black</td>\n",
       "      <td>Male</td>\n",
       "      <td>0</td>\n",
       "      <td>0</td>\n",
       "      <td>40</td>\n",
       "      <td>United-States</td>\n",
       "      <td>&lt;=50K</td>\n",
       "    </tr>\n",
       "    <tr>\n",
       "      <th>3</th>\n",
       "      <td>28</td>\n",
       "      <td>Private</td>\n",
       "      <td>338409</td>\n",
       "      <td>Bachelors</td>\n",
       "      <td>13</td>\n",
       "      <td>Married-civ-spouse</td>\n",
       "      <td>Prof-specialty</td>\n",
       "      <td>Wife</td>\n",
       "      <td>Black</td>\n",
       "      <td>Female</td>\n",
       "      <td>0</td>\n",
       "      <td>0</td>\n",
       "      <td>40</td>\n",
       "      <td>Cuba</td>\n",
       "      <td>&lt;=50K</td>\n",
       "    </tr>\n",
       "    <tr>\n",
       "      <th>4</th>\n",
       "      <td>37</td>\n",
       "      <td>Private</td>\n",
       "      <td>284582</td>\n",
       "      <td>Masters</td>\n",
       "      <td>14</td>\n",
       "      <td>Married-civ-spouse</td>\n",
       "      <td>Exec-managerial</td>\n",
       "      <td>Wife</td>\n",
       "      <td>White</td>\n",
       "      <td>Female</td>\n",
       "      <td>0</td>\n",
       "      <td>0</td>\n",
       "      <td>40</td>\n",
       "      <td>United-States</td>\n",
       "      <td>&lt;=50K</td>\n",
       "    </tr>\n",
       "  </tbody>\n",
       "</table>\n",
       "</div>"
      ],
      "text/plain": [
       "   Age          Workclass  Fnlwgt   Education  edcation_num  \\\n",
       "0   50   Self-emp-not-inc   83311   Bachelors            13   \n",
       "1   38            Private  215646     HS-grad             9   \n",
       "2   53            Private  234721        11th             7   \n",
       "3   28            Private  338409   Bachelors            13   \n",
       "4   37            Private  284582     Masters            14   \n",
       "\n",
       "        marital_status          occupation    relationship    race      sex  \\\n",
       "0   Married-civ-spouse     Exec-managerial         Husband   White     Male   \n",
       "1             Divorced   Handlers-cleaners   Not-in-family   White     Male   \n",
       "2   Married-civ-spouse   Handlers-cleaners         Husband   Black     Male   \n",
       "3   Married-civ-spouse      Prof-specialty            Wife   Black   Female   \n",
       "4   Married-civ-spouse     Exec-managerial            Wife   White   Female   \n",
       "\n",
       "   capital_gain  capital_loss  hours_per_week  native_country  income  \n",
       "0             0             0              13   United-States   <=50K  \n",
       "1             0             0              40   United-States   <=50K  \n",
       "2             0             0              40   United-States   <=50K  \n",
       "3             0             0              40            Cuba   <=50K  \n",
       "4             0             0              40   United-States   <=50K  "
      ]
     },
     "execution_count": 219,
     "metadata": {},
     "output_type": "execute_result"
    }
   ],
   "source": [
    "my_data.head()"
   ]
  },
  {
   "cell_type": "code",
   "execution_count": 220,
   "id": "b9f3e353",
   "metadata": {},
   "outputs": [
    {
     "data": {
      "text/plain": [
       "(32560, 15)"
      ]
     },
     "execution_count": 220,
     "metadata": {},
     "output_type": "execute_result"
    }
   ],
   "source": [
    "my_data.shape"
   ]
  },
  {
   "cell_type": "markdown",
   "id": "d7ea7309",
   "metadata": {},
   "source": [
    "#  2) Remove handle null values (if any)"
   ]
  },
  {
   "cell_type": "code",
   "execution_count": 221,
   "id": "a05d5a8a",
   "metadata": {},
   "outputs": [
    {
     "data": {
      "text/plain": [
       "Age               0\n",
       "Workclass         0\n",
       "Fnlwgt            0\n",
       "Education         0\n",
       "edcation_num      0\n",
       "marital_status    0\n",
       "occupation        0\n",
       "relationship      0\n",
       "race              0\n",
       "sex               0\n",
       "capital_gain      0\n",
       "capital_loss      0\n",
       "hours_per_week    0\n",
       "native_country    0\n",
       "income            0\n",
       "dtype: int64"
      ]
     },
     "execution_count": 221,
     "metadata": {},
     "output_type": "execute_result"
    }
   ],
   "source": [
    "my_data.isnull().sum()"
   ]
  },
  {
   "cell_type": "markdown",
   "id": "b6c5ddde",
   "metadata": {},
   "source": [
    "#### No null values found"
   ]
  },
  {
   "cell_type": "markdown",
   "id": "0b5b5967",
   "metadata": {},
   "source": [
    "##### datatypes in the dataset"
   ]
  },
  {
   "cell_type": "code",
   "execution_count": 222,
   "id": "72eac2f5",
   "metadata": {},
   "outputs": [
    {
     "data": {
      "text/plain": [
       "Age                int64\n",
       "Workclass         object\n",
       "Fnlwgt             int64\n",
       "Education         object\n",
       "edcation_num       int64\n",
       "marital_status    object\n",
       "occupation        object\n",
       "relationship      object\n",
       "race              object\n",
       "sex               object\n",
       "capital_gain       int64\n",
       "capital_loss       int64\n",
       "hours_per_week     int64\n",
       "native_country    object\n",
       "income            object\n",
       "dtype: object"
      ]
     },
     "execution_count": 222,
     "metadata": {},
     "output_type": "execute_result"
    }
   ],
   "source": [
    "my_data.dtypes"
   ]
  },
  {
   "cell_type": "markdown",
   "id": "7e54765b",
   "metadata": {},
   "source": [
    "### Changing the datatypes "
   ]
  },
  {
   "cell_type": "code",
   "execution_count": 223,
   "id": "8ebc1e5f",
   "metadata": {},
   "outputs": [
    {
     "data": {
      "text/plain": [
       " Private             22696\n",
       " Self-emp-not-inc     2541\n",
       " Local-gov            2093\n",
       " ?                    1836\n",
       " State-gov            1297\n",
       " Self-emp-inc         1116\n",
       " Federal-gov           960\n",
       " Without-pay            14\n",
       " Never-worked            7\n",
       "Name: Workclass, dtype: int64"
      ]
     },
     "execution_count": 223,
     "metadata": {},
     "output_type": "execute_result"
    }
   ],
   "source": [
    "my_data['Workclass'].value_counts()"
   ]
  },
  {
   "cell_type": "code",
   "execution_count": 224,
   "id": "179b125a",
   "metadata": {},
   "outputs": [
    {
     "data": {
      "text/plain": [
       " HS-grad         10501\n",
       " Some-college     7291\n",
       " Bachelors        5354\n",
       " Masters          1723\n",
       " Assoc-voc        1382\n",
       " 11th             1175\n",
       " Assoc-acdm       1067\n",
       " 10th              933\n",
       " 7th-8th           646\n",
       " Prof-school       576\n",
       " 9th               514\n",
       " 12th              433\n",
       " Doctorate         413\n",
       " 5th-6th           333\n",
       " 1st-4th           168\n",
       " Preschool          51\n",
       "Name: Education, dtype: int64"
      ]
     },
     "execution_count": 224,
     "metadata": {},
     "output_type": "execute_result"
    }
   ],
   "source": [
    "my_data['Education'].value_counts()"
   ]
  },
  {
   "cell_type": "code",
   "execution_count": 225,
   "id": "03694802",
   "metadata": {},
   "outputs": [
    {
     "data": {
      "text/plain": [
       " Married-civ-spouse       14976\n",
       " Never-married            10682\n",
       " Divorced                  4443\n",
       " Separated                 1025\n",
       " Widowed                    993\n",
       " Married-spouse-absent      418\n",
       " Married-AF-spouse           23\n",
       "Name: marital_status, dtype: int64"
      ]
     },
     "execution_count": 225,
     "metadata": {},
     "output_type": "execute_result"
    }
   ],
   "source": [
    "my_data['marital_status'].value_counts()"
   ]
  },
  {
   "cell_type": "code",
   "execution_count": 226,
   "id": "bf6d6ca4",
   "metadata": {},
   "outputs": [
    {
     "data": {
      "text/plain": [
       " Prof-specialty       4140\n",
       " Craft-repair         4099\n",
       " Exec-managerial      4066\n",
       " Adm-clerical         3769\n",
       " Sales                3650\n",
       " Other-service        3295\n",
       " Machine-op-inspct    2002\n",
       " ?                    1843\n",
       " Transport-moving     1597\n",
       " Handlers-cleaners    1370\n",
       " Farming-fishing       994\n",
       " Tech-support          928\n",
       " Protective-serv       649\n",
       " Priv-house-serv       149\n",
       " Armed-Forces            9\n",
       "Name: occupation, dtype: int64"
      ]
     },
     "execution_count": 226,
     "metadata": {},
     "output_type": "execute_result"
    }
   ],
   "source": [
    "my_data['occupation'].value_counts()"
   ]
  },
  {
   "cell_type": "code",
   "execution_count": 227,
   "id": "1ee98e63",
   "metadata": {},
   "outputs": [
    {
     "data": {
      "text/plain": [
       " Husband           13193\n",
       " Not-in-family      8304\n",
       " Own-child          5068\n",
       " Unmarried          3446\n",
       " Wife               1568\n",
       " Other-relative      981\n",
       "Name: relationship, dtype: int64"
      ]
     },
     "execution_count": 227,
     "metadata": {},
     "output_type": "execute_result"
    }
   ],
   "source": [
    "my_data['relationship'].value_counts()"
   ]
  },
  {
   "cell_type": "code",
   "execution_count": 228,
   "id": "6a71417c",
   "metadata": {},
   "outputs": [
    {
     "data": {
      "text/plain": [
       " White                 27815\n",
       " Black                  3124\n",
       " Asian-Pac-Islander     1039\n",
       " Amer-Indian-Eskimo      311\n",
       " Other                   271\n",
       "Name: race, dtype: int64"
      ]
     },
     "execution_count": 228,
     "metadata": {},
     "output_type": "execute_result"
    }
   ],
   "source": [
    "my_data['race'].value_counts()"
   ]
  },
  {
   "cell_type": "code",
   "execution_count": 229,
   "id": "697a3e9b",
   "metadata": {},
   "outputs": [
    {
     "data": {
      "text/plain": [
       " Male      21789\n",
       " Female    10771\n",
       "Name: sex, dtype: int64"
      ]
     },
     "execution_count": 229,
     "metadata": {},
     "output_type": "execute_result"
    }
   ],
   "source": [
    "my_data['sex'].value_counts()"
   ]
  },
  {
   "cell_type": "code",
   "execution_count": 230,
   "id": "61370721",
   "metadata": {},
   "outputs": [
    {
     "data": {
      "text/plain": [
       " United-States                 29169\n",
       " Mexico                          643\n",
       " ?                               583\n",
       " Philippines                     198\n",
       " Germany                         137\n",
       " Canada                          121\n",
       " Puerto-Rico                     114\n",
       " El-Salvador                     106\n",
       " India                           100\n",
       " Cuba                             95\n",
       " England                          90\n",
       " Jamaica                          81\n",
       " South                            80\n",
       " China                            75\n",
       " Italy                            73\n",
       " Dominican-Republic               70\n",
       " Vietnam                          67\n",
       " Guatemala                        64\n",
       " Japan                            62\n",
       " Poland                           60\n",
       " Columbia                         59\n",
       " Taiwan                           51\n",
       " Haiti                            44\n",
       " Iran                             43\n",
       " Portugal                         37\n",
       " Nicaragua                        34\n",
       " Peru                             31\n",
       " France                           29\n",
       " Greece                           29\n",
       " Ecuador                          28\n",
       " Ireland                          24\n",
       " Hong                             20\n",
       " Cambodia                         19\n",
       " Trinadad&Tobago                  19\n",
       " Laos                             18\n",
       " Thailand                         18\n",
       " Yugoslavia                       16\n",
       " Outlying-US(Guam-USVI-etc)       14\n",
       " Honduras                         13\n",
       " Hungary                          13\n",
       " Scotland                         12\n",
       " Holand-Netherlands                1\n",
       "Name: native_country, dtype: int64"
      ]
     },
     "execution_count": 230,
     "metadata": {},
     "output_type": "execute_result"
    }
   ],
   "source": [
    "my_data['native_country'].value_counts()"
   ]
  },
  {
   "cell_type": "code",
   "execution_count": 231,
   "id": "ecac0716",
   "metadata": {},
   "outputs": [
    {
     "data": {
      "text/plain": [
       " <=50K    24719\n",
       " >50K      7841\n",
       "Name: income, dtype: int64"
      ]
     },
     "execution_count": 231,
     "metadata": {},
     "output_type": "execute_result"
    }
   ],
   "source": [
    "my_data['income'].value_counts()"
   ]
  },
  {
   "cell_type": "code",
   "execution_count": 232,
   "id": "ca99c1cc",
   "metadata": {},
   "outputs": [
    {
     "data": {
      "text/html": [
       "<div>\n",
       "<style scoped>\n",
       "    .dataframe tbody tr th:only-of-type {\n",
       "        vertical-align: middle;\n",
       "    }\n",
       "\n",
       "    .dataframe tbody tr th {\n",
       "        vertical-align: top;\n",
       "    }\n",
       "\n",
       "    .dataframe thead th {\n",
       "        text-align: right;\n",
       "    }\n",
       "</style>\n",
       "<table border=\"1\" class=\"dataframe\">\n",
       "  <thead>\n",
       "    <tr style=\"text-align: right;\">\n",
       "      <th></th>\n",
       "      <th>Age</th>\n",
       "      <th>Workclass</th>\n",
       "      <th>Fnlwgt</th>\n",
       "      <th>Education</th>\n",
       "      <th>edcation_num</th>\n",
       "      <th>marital_status</th>\n",
       "      <th>occupation</th>\n",
       "      <th>relationship</th>\n",
       "      <th>race</th>\n",
       "      <th>sex</th>\n",
       "      <th>capital_gain</th>\n",
       "      <th>capital_loss</th>\n",
       "      <th>hours_per_week</th>\n",
       "      <th>native_country</th>\n",
       "      <th>income</th>\n",
       "    </tr>\n",
       "  </thead>\n",
       "  <tbody>\n",
       "    <tr>\n",
       "      <th>0</th>\n",
       "      <td>50</td>\n",
       "      <td>6</td>\n",
       "      <td>83311</td>\n",
       "      <td>9</td>\n",
       "      <td>13</td>\n",
       "      <td>2</td>\n",
       "      <td>4</td>\n",
       "      <td>0</td>\n",
       "      <td>4</td>\n",
       "      <td>1</td>\n",
       "      <td>0</td>\n",
       "      <td>0</td>\n",
       "      <td>13</td>\n",
       "      <td>39</td>\n",
       "      <td>0</td>\n",
       "    </tr>\n",
       "    <tr>\n",
       "      <th>1</th>\n",
       "      <td>38</td>\n",
       "      <td>4</td>\n",
       "      <td>215646</td>\n",
       "      <td>11</td>\n",
       "      <td>9</td>\n",
       "      <td>0</td>\n",
       "      <td>6</td>\n",
       "      <td>1</td>\n",
       "      <td>4</td>\n",
       "      <td>1</td>\n",
       "      <td>0</td>\n",
       "      <td>0</td>\n",
       "      <td>40</td>\n",
       "      <td>39</td>\n",
       "      <td>0</td>\n",
       "    </tr>\n",
       "    <tr>\n",
       "      <th>2</th>\n",
       "      <td>53</td>\n",
       "      <td>4</td>\n",
       "      <td>234721</td>\n",
       "      <td>1</td>\n",
       "      <td>7</td>\n",
       "      <td>2</td>\n",
       "      <td>6</td>\n",
       "      <td>0</td>\n",
       "      <td>2</td>\n",
       "      <td>1</td>\n",
       "      <td>0</td>\n",
       "      <td>0</td>\n",
       "      <td>40</td>\n",
       "      <td>39</td>\n",
       "      <td>0</td>\n",
       "    </tr>\n",
       "    <tr>\n",
       "      <th>3</th>\n",
       "      <td>28</td>\n",
       "      <td>4</td>\n",
       "      <td>338409</td>\n",
       "      <td>9</td>\n",
       "      <td>13</td>\n",
       "      <td>2</td>\n",
       "      <td>10</td>\n",
       "      <td>5</td>\n",
       "      <td>2</td>\n",
       "      <td>0</td>\n",
       "      <td>0</td>\n",
       "      <td>0</td>\n",
       "      <td>40</td>\n",
       "      <td>5</td>\n",
       "      <td>0</td>\n",
       "    </tr>\n",
       "    <tr>\n",
       "      <th>4</th>\n",
       "      <td>37</td>\n",
       "      <td>4</td>\n",
       "      <td>284582</td>\n",
       "      <td>12</td>\n",
       "      <td>14</td>\n",
       "      <td>2</td>\n",
       "      <td>4</td>\n",
       "      <td>5</td>\n",
       "      <td>4</td>\n",
       "      <td>0</td>\n",
       "      <td>0</td>\n",
       "      <td>0</td>\n",
       "      <td>40</td>\n",
       "      <td>39</td>\n",
       "      <td>0</td>\n",
       "    </tr>\n",
       "  </tbody>\n",
       "</table>\n",
       "</div>"
      ],
      "text/plain": [
       "   Age  Workclass  Fnlwgt  Education  edcation_num  marital_status  \\\n",
       "0   50          6   83311          9            13               2   \n",
       "1   38          4  215646         11             9               0   \n",
       "2   53          4  234721          1             7               2   \n",
       "3   28          4  338409          9            13               2   \n",
       "4   37          4  284582         12            14               2   \n",
       "\n",
       "   occupation  relationship  race  sex  capital_gain  capital_loss  \\\n",
       "0           4             0     4    1             0             0   \n",
       "1           6             1     4    1             0             0   \n",
       "2           6             0     2    1             0             0   \n",
       "3          10             5     2    0             0             0   \n",
       "4           4             5     4    0             0             0   \n",
       "\n",
       "   hours_per_week  native_country  income  \n",
       "0              13              39       0  \n",
       "1              40              39       0  \n",
       "2              40              39       0  \n",
       "3              40               5       0  \n",
       "4              40              39       0  "
      ]
     },
     "execution_count": 232,
     "metadata": {},
     "output_type": "execute_result"
    }
   ],
   "source": [
    "from sklearn.preprocessing import LabelEncoder\n",
    "\n",
    "le = LabelEncoder()\n",
    "my_data['Workclass'] = le.fit_transform(my_data['Workclass'])\n",
    "my_data['Education'] = le.fit_transform(my_data['Education'])\n",
    "my_data['marital_status'] = le.fit_transform(my_data['marital_status'])\n",
    "my_data['occupation'] = le.fit_transform(my_data['occupation'])\n",
    "my_data['relationship'] = le.fit_transform(my_data['relationship'])\n",
    "my_data['race'] = le.fit_transform(my_data['race'])\n",
    "my_data['sex'] = le.fit_transform(my_data['sex'])\n",
    "my_data['native_country'] = le.fit_transform(my_data['native_country'])\n",
    "my_data['income'] = le.fit_transform(my_data['income'])\n",
    "\n",
    "my_data.head()"
   ]
  },
  {
   "cell_type": "code",
   "execution_count": 233,
   "id": "355154fa",
   "metadata": {},
   "outputs": [
    {
     "data": {
      "text/plain": [
       "Age               int64\n",
       "Workclass         int32\n",
       "Fnlwgt            int64\n",
       "Education         int32\n",
       "edcation_num      int64\n",
       "marital_status    int32\n",
       "occupation        int32\n",
       "relationship      int32\n",
       "race              int32\n",
       "sex               int32\n",
       "capital_gain      int64\n",
       "capital_loss      int64\n",
       "hours_per_week    int64\n",
       "native_country    int32\n",
       "income            int32\n",
       "dtype: object"
      ]
     },
     "execution_count": 233,
     "metadata": {},
     "output_type": "execute_result"
    }
   ],
   "source": [
    "my_data.dtypes"
   ]
  },
  {
   "cell_type": "markdown",
   "id": "5459004f",
   "metadata": {},
   "source": [
    "##  Correlation "
   ]
  },
  {
   "cell_type": "code",
   "execution_count": 234,
   "id": "d0c9fccd",
   "metadata": {},
   "outputs": [
    {
     "data": {
      "text/html": [
       "<div>\n",
       "<style scoped>\n",
       "    .dataframe tbody tr th:only-of-type {\n",
       "        vertical-align: middle;\n",
       "    }\n",
       "\n",
       "    .dataframe tbody tr th {\n",
       "        vertical-align: top;\n",
       "    }\n",
       "\n",
       "    .dataframe thead th {\n",
       "        text-align: right;\n",
       "    }\n",
       "</style>\n",
       "<table border=\"1\" class=\"dataframe\">\n",
       "  <thead>\n",
       "    <tr style=\"text-align: right;\">\n",
       "      <th></th>\n",
       "      <th>Age</th>\n",
       "      <th>Workclass</th>\n",
       "      <th>Fnlwgt</th>\n",
       "      <th>Education</th>\n",
       "      <th>edcation_num</th>\n",
       "      <th>marital_status</th>\n",
       "      <th>occupation</th>\n",
       "      <th>relationship</th>\n",
       "      <th>race</th>\n",
       "      <th>sex</th>\n",
       "      <th>capital_gain</th>\n",
       "      <th>capital_loss</th>\n",
       "      <th>hours_per_week</th>\n",
       "      <th>native_country</th>\n",
       "      <th>income</th>\n",
       "    </tr>\n",
       "  </thead>\n",
       "  <tbody>\n",
       "    <tr>\n",
       "      <th>Age</th>\n",
       "      <td>1.000000</td>\n",
       "      <td>0.003786</td>\n",
       "      <td>-0.076646</td>\n",
       "      <td>-0.010508</td>\n",
       "      <td>0.036527</td>\n",
       "      <td>-0.266292</td>\n",
       "      <td>-0.020946</td>\n",
       "      <td>-0.263698</td>\n",
       "      <td>0.028718</td>\n",
       "      <td>0.088832</td>\n",
       "      <td>0.077674</td>\n",
       "      <td>0.057775</td>\n",
       "      <td>0.068756</td>\n",
       "      <td>-0.001151</td>\n",
       "      <td>0.234039</td>\n",
       "    </tr>\n",
       "    <tr>\n",
       "      <th>Workclass</th>\n",
       "      <td>0.003786</td>\n",
       "      <td>1.000000</td>\n",
       "      <td>-0.016587</td>\n",
       "      <td>0.023537</td>\n",
       "      <td>0.052015</td>\n",
       "      <td>-0.064798</td>\n",
       "      <td>0.255004</td>\n",
       "      <td>-0.090449</td>\n",
       "      <td>0.049720</td>\n",
       "      <td>0.095942</td>\n",
       "      <td>0.033828</td>\n",
       "      <td>0.012231</td>\n",
       "      <td>0.138974</td>\n",
       "      <td>-0.007710</td>\n",
       "      <td>0.051645</td>\n",
       "    </tr>\n",
       "    <tr>\n",
       "      <th>Fnlwgt</th>\n",
       "      <td>-0.076646</td>\n",
       "      <td>-0.016587</td>\n",
       "      <td>1.000000</td>\n",
       "      <td>-0.028156</td>\n",
       "      <td>-0.043159</td>\n",
       "      <td>0.028184</td>\n",
       "      <td>0.001554</td>\n",
       "      <td>0.008922</td>\n",
       "      <td>-0.021278</td>\n",
       "      <td>0.026882</td>\n",
       "      <td>0.000437</td>\n",
       "      <td>-0.010259</td>\n",
       "      <td>-0.018770</td>\n",
       "      <td>-0.051957</td>\n",
       "      <td>-0.009481</td>\n",
       "    </tr>\n",
       "    <tr>\n",
       "      <th>Education</th>\n",
       "      <td>-0.010508</td>\n",
       "      <td>0.023537</td>\n",
       "      <td>-0.028156</td>\n",
       "      <td>1.000000</td>\n",
       "      <td>0.359172</td>\n",
       "      <td>-0.038398</td>\n",
       "      <td>-0.021274</td>\n",
       "      <td>-0.010879</td>\n",
       "      <td>0.014135</td>\n",
       "      <td>-0.027349</td>\n",
       "      <td>0.030047</td>\n",
       "      <td>0.016744</td>\n",
       "      <td>0.055510</td>\n",
       "      <td>0.064291</td>\n",
       "      <td>0.079311</td>\n",
       "    </tr>\n",
       "    <tr>\n",
       "      <th>edcation_num</th>\n",
       "      <td>0.036527</td>\n",
       "      <td>0.052015</td>\n",
       "      <td>-0.043159</td>\n",
       "      <td>0.359172</td>\n",
       "      <td>1.000000</td>\n",
       "      <td>-0.069338</td>\n",
       "      <td>0.109748</td>\n",
       "      <td>-0.094145</td>\n",
       "      <td>0.031825</td>\n",
       "      <td>0.012256</td>\n",
       "      <td>0.122627</td>\n",
       "      <td>0.079932</td>\n",
       "      <td>0.148127</td>\n",
       "      <td>0.050831</td>\n",
       "      <td>0.335182</td>\n",
       "    </tr>\n",
       "    <tr>\n",
       "      <th>marital_status</th>\n",
       "      <td>-0.266292</td>\n",
       "      <td>-0.064798</td>\n",
       "      <td>0.028184</td>\n",
       "      <td>-0.038398</td>\n",
       "      <td>-0.069338</td>\n",
       "      <td>1.000000</td>\n",
       "      <td>-0.009617</td>\n",
       "      <td>0.185461</td>\n",
       "      <td>-0.068025</td>\n",
       "      <td>-0.129337</td>\n",
       "      <td>-0.043398</td>\n",
       "      <td>-0.034182</td>\n",
       "      <td>-0.190521</td>\n",
       "      <td>-0.023827</td>\n",
       "      <td>-0.199295</td>\n",
       "    </tr>\n",
       "    <tr>\n",
       "      <th>occupation</th>\n",
       "      <td>-0.020946</td>\n",
       "      <td>0.255004</td>\n",
       "      <td>0.001554</td>\n",
       "      <td>-0.021274</td>\n",
       "      <td>0.109748</td>\n",
       "      <td>-0.009617</td>\n",
       "      <td>1.000000</td>\n",
       "      <td>-0.075620</td>\n",
       "      <td>0.006779</td>\n",
       "      <td>0.080328</td>\n",
       "      <td>0.025511</td>\n",
       "      <td>0.017979</td>\n",
       "      <td>0.080384</td>\n",
       "      <td>-0.012532</td>\n",
       "      <td>0.075448</td>\n",
       "    </tr>\n",
       "    <tr>\n",
       "      <th>relationship</th>\n",
       "      <td>-0.263698</td>\n",
       "      <td>-0.090449</td>\n",
       "      <td>0.008922</td>\n",
       "      <td>-0.010879</td>\n",
       "      <td>-0.094145</td>\n",
       "      <td>0.185461</td>\n",
       "      <td>-0.075620</td>\n",
       "      <td>1.000000</td>\n",
       "      <td>-0.116052</td>\n",
       "      <td>-0.582453</td>\n",
       "      <td>-0.057918</td>\n",
       "      <td>-0.061064</td>\n",
       "      <td>-0.248975</td>\n",
       "      <td>-0.005504</td>\n",
       "      <td>-0.250924</td>\n",
       "    </tr>\n",
       "    <tr>\n",
       "      <th>race</th>\n",
       "      <td>0.028718</td>\n",
       "      <td>0.049720</td>\n",
       "      <td>-0.021278</td>\n",
       "      <td>0.014135</td>\n",
       "      <td>0.031825</td>\n",
       "      <td>-0.068025</td>\n",
       "      <td>0.006779</td>\n",
       "      <td>-0.116052</td>\n",
       "      <td>1.000000</td>\n",
       "      <td>0.087197</td>\n",
       "      <td>0.011143</td>\n",
       "      <td>0.018902</td>\n",
       "      <td>0.041910</td>\n",
       "      <td>0.137849</td>\n",
       "      <td>0.071853</td>\n",
       "    </tr>\n",
       "    <tr>\n",
       "      <th>sex</th>\n",
       "      <td>0.088832</td>\n",
       "      <td>0.095942</td>\n",
       "      <td>0.026882</td>\n",
       "      <td>-0.027349</td>\n",
       "      <td>0.012256</td>\n",
       "      <td>-0.129337</td>\n",
       "      <td>0.080328</td>\n",
       "      <td>-0.582453</td>\n",
       "      <td>0.087197</td>\n",
       "      <td>1.000000</td>\n",
       "      <td>0.048477</td>\n",
       "      <td>0.045572</td>\n",
       "      <td>0.229312</td>\n",
       "      <td>-0.008125</td>\n",
       "      <td>0.215995</td>\n",
       "    </tr>\n",
       "    <tr>\n",
       "      <th>capital_gain</th>\n",
       "      <td>0.077674</td>\n",
       "      <td>0.033828</td>\n",
       "      <td>0.000437</td>\n",
       "      <td>0.030047</td>\n",
       "      <td>0.122627</td>\n",
       "      <td>-0.043398</td>\n",
       "      <td>0.025511</td>\n",
       "      <td>-0.057918</td>\n",
       "      <td>0.011143</td>\n",
       "      <td>0.048477</td>\n",
       "      <td>1.000000</td>\n",
       "      <td>-0.031614</td>\n",
       "      <td>0.078409</td>\n",
       "      <td>-0.001984</td>\n",
       "      <td>0.223333</td>\n",
       "    </tr>\n",
       "    <tr>\n",
       "      <th>capital_loss</th>\n",
       "      <td>0.057775</td>\n",
       "      <td>0.012231</td>\n",
       "      <td>-0.010259</td>\n",
       "      <td>0.016744</td>\n",
       "      <td>0.079932</td>\n",
       "      <td>-0.034182</td>\n",
       "      <td>0.017979</td>\n",
       "      <td>-0.061064</td>\n",
       "      <td>0.018902</td>\n",
       "      <td>0.045572</td>\n",
       "      <td>-0.031614</td>\n",
       "      <td>1.000000</td>\n",
       "      <td>0.054256</td>\n",
       "      <td>0.000420</td>\n",
       "      <td>0.150523</td>\n",
       "    </tr>\n",
       "    <tr>\n",
       "      <th>hours_per_week</th>\n",
       "      <td>0.068756</td>\n",
       "      <td>0.138974</td>\n",
       "      <td>-0.018770</td>\n",
       "      <td>0.055510</td>\n",
       "      <td>0.148127</td>\n",
       "      <td>-0.190521</td>\n",
       "      <td>0.080384</td>\n",
       "      <td>-0.248975</td>\n",
       "      <td>0.041910</td>\n",
       "      <td>0.229312</td>\n",
       "      <td>0.078409</td>\n",
       "      <td>0.054256</td>\n",
       "      <td>1.000000</td>\n",
       "      <td>-0.002671</td>\n",
       "      <td>0.229690</td>\n",
       "    </tr>\n",
       "    <tr>\n",
       "      <th>native_country</th>\n",
       "      <td>-0.001151</td>\n",
       "      <td>-0.007710</td>\n",
       "      <td>-0.051957</td>\n",
       "      <td>0.064291</td>\n",
       "      <td>0.050831</td>\n",
       "      <td>-0.023827</td>\n",
       "      <td>-0.012532</td>\n",
       "      <td>-0.005504</td>\n",
       "      <td>0.137849</td>\n",
       "      <td>-0.008125</td>\n",
       "      <td>-0.001984</td>\n",
       "      <td>0.000420</td>\n",
       "      <td>-0.002671</td>\n",
       "      <td>1.000000</td>\n",
       "      <td>0.015845</td>\n",
       "    </tr>\n",
       "    <tr>\n",
       "      <th>income</th>\n",
       "      <td>0.234039</td>\n",
       "      <td>0.051645</td>\n",
       "      <td>-0.009481</td>\n",
       "      <td>0.079311</td>\n",
       "      <td>0.335182</td>\n",
       "      <td>-0.199295</td>\n",
       "      <td>0.075448</td>\n",
       "      <td>-0.250924</td>\n",
       "      <td>0.071853</td>\n",
       "      <td>0.215995</td>\n",
       "      <td>0.223333</td>\n",
       "      <td>0.150523</td>\n",
       "      <td>0.229690</td>\n",
       "      <td>0.015845</td>\n",
       "      <td>1.000000</td>\n",
       "    </tr>\n",
       "  </tbody>\n",
       "</table>\n",
       "</div>"
      ],
      "text/plain": [
       "                     Age  Workclass    Fnlwgt  Education  edcation_num  \\\n",
       "Age             1.000000   0.003786 -0.076646  -0.010508      0.036527   \n",
       "Workclass       0.003786   1.000000 -0.016587   0.023537      0.052015   \n",
       "Fnlwgt         -0.076646  -0.016587  1.000000  -0.028156     -0.043159   \n",
       "Education      -0.010508   0.023537 -0.028156   1.000000      0.359172   \n",
       "edcation_num    0.036527   0.052015 -0.043159   0.359172      1.000000   \n",
       "marital_status -0.266292  -0.064798  0.028184  -0.038398     -0.069338   \n",
       "occupation     -0.020946   0.255004  0.001554  -0.021274      0.109748   \n",
       "relationship   -0.263698  -0.090449  0.008922  -0.010879     -0.094145   \n",
       "race            0.028718   0.049720 -0.021278   0.014135      0.031825   \n",
       "sex             0.088832   0.095942  0.026882  -0.027349      0.012256   \n",
       "capital_gain    0.077674   0.033828  0.000437   0.030047      0.122627   \n",
       "capital_loss    0.057775   0.012231 -0.010259   0.016744      0.079932   \n",
       "hours_per_week  0.068756   0.138974 -0.018770   0.055510      0.148127   \n",
       "native_country -0.001151  -0.007710 -0.051957   0.064291      0.050831   \n",
       "income          0.234039   0.051645 -0.009481   0.079311      0.335182   \n",
       "\n",
       "                marital_status  occupation  relationship      race       sex  \\\n",
       "Age                  -0.266292   -0.020946     -0.263698  0.028718  0.088832   \n",
       "Workclass            -0.064798    0.255004     -0.090449  0.049720  0.095942   \n",
       "Fnlwgt                0.028184    0.001554      0.008922 -0.021278  0.026882   \n",
       "Education            -0.038398   -0.021274     -0.010879  0.014135 -0.027349   \n",
       "edcation_num         -0.069338    0.109748     -0.094145  0.031825  0.012256   \n",
       "marital_status        1.000000   -0.009617      0.185461 -0.068025 -0.129337   \n",
       "occupation           -0.009617    1.000000     -0.075620  0.006779  0.080328   \n",
       "relationship          0.185461   -0.075620      1.000000 -0.116052 -0.582453   \n",
       "race                 -0.068025    0.006779     -0.116052  1.000000  0.087197   \n",
       "sex                  -0.129337    0.080328     -0.582453  0.087197  1.000000   \n",
       "capital_gain         -0.043398    0.025511     -0.057918  0.011143  0.048477   \n",
       "capital_loss         -0.034182    0.017979     -0.061064  0.018902  0.045572   \n",
       "hours_per_week       -0.190521    0.080384     -0.248975  0.041910  0.229312   \n",
       "native_country       -0.023827   -0.012532     -0.005504  0.137849 -0.008125   \n",
       "income               -0.199295    0.075448     -0.250924  0.071853  0.215995   \n",
       "\n",
       "                capital_gain  capital_loss  hours_per_week  native_country  \\\n",
       "Age                 0.077674      0.057775        0.068756       -0.001151   \n",
       "Workclass           0.033828      0.012231        0.138974       -0.007710   \n",
       "Fnlwgt              0.000437     -0.010259       -0.018770       -0.051957   \n",
       "Education           0.030047      0.016744        0.055510        0.064291   \n",
       "edcation_num        0.122627      0.079932        0.148127        0.050831   \n",
       "marital_status     -0.043398     -0.034182       -0.190521       -0.023827   \n",
       "occupation          0.025511      0.017979        0.080384       -0.012532   \n",
       "relationship       -0.057918     -0.061064       -0.248975       -0.005504   \n",
       "race                0.011143      0.018902        0.041910        0.137849   \n",
       "sex                 0.048477      0.045572        0.229312       -0.008125   \n",
       "capital_gain        1.000000     -0.031614        0.078409       -0.001984   \n",
       "capital_loss       -0.031614      1.000000        0.054256        0.000420   \n",
       "hours_per_week      0.078409      0.054256        1.000000       -0.002671   \n",
       "native_country     -0.001984      0.000420       -0.002671        1.000000   \n",
       "income              0.223333      0.150523        0.229690        0.015845   \n",
       "\n",
       "                  income  \n",
       "Age             0.234039  \n",
       "Workclass       0.051645  \n",
       "Fnlwgt         -0.009481  \n",
       "Education       0.079311  \n",
       "edcation_num    0.335182  \n",
       "marital_status -0.199295  \n",
       "occupation      0.075448  \n",
       "relationship   -0.250924  \n",
       "race            0.071853  \n",
       "sex             0.215995  \n",
       "capital_gain    0.223333  \n",
       "capital_loss    0.150523  \n",
       "hours_per_week  0.229690  \n",
       "native_country  0.015845  \n",
       "income          1.000000  "
      ]
     },
     "execution_count": 234,
     "metadata": {},
     "output_type": "execute_result"
    }
   ],
   "source": [
    "my_data.corr()"
   ]
  },
  {
   "cell_type": "markdown",
   "id": "471e2912",
   "metadata": {},
   "source": [
    "# 3) Split data into training and test data"
   ]
  },
  {
   "cell_type": "code",
   "execution_count": 235,
   "id": "836c342a",
   "metadata": {},
   "outputs": [],
   "source": [
    "x=my_data.drop(['income'],axis='columns')\n",
    "y=my_data.income.values\n",
    "from sklearn.model_selection import train_test_split \n",
    "x_train,x_test,y_train,y_test=train_test_split(x,y,test_size=0.2)\n"
   ]
  },
  {
   "cell_type": "code",
   "execution_count": 236,
   "id": "ab996d56",
   "metadata": {},
   "outputs": [
    {
     "data": {
      "text/plain": [
       "(26048, 14)"
      ]
     },
     "execution_count": 236,
     "metadata": {},
     "output_type": "execute_result"
    }
   ],
   "source": [
    "x_train.shape"
   ]
  },
  {
   "cell_type": "code",
   "execution_count": 237,
   "id": "fe6bfb5e",
   "metadata": {},
   "outputs": [
    {
     "data": {
      "text/plain": [
       "(6512, 14)"
      ]
     },
     "execution_count": 237,
     "metadata": {},
     "output_type": "execute_result"
    }
   ],
   "source": [
    "x_test.shape"
   ]
  },
  {
   "cell_type": "code",
   "execution_count": 238,
   "id": "67a959bd",
   "metadata": {},
   "outputs": [
    {
     "data": {
      "text/plain": [
       "(26048,)"
      ]
     },
     "execution_count": 238,
     "metadata": {},
     "output_type": "execute_result"
    }
   ],
   "source": [
    "y_train.shape"
   ]
  },
  {
   "cell_type": "code",
   "execution_count": 239,
   "id": "52feeb9c",
   "metadata": {},
   "outputs": [
    {
     "data": {
      "text/plain": [
       "(6512,)"
      ]
     },
     "execution_count": 239,
     "metadata": {},
     "output_type": "execute_result"
    }
   ],
   "source": [
    "y_test.shape"
   ]
  },
  {
   "cell_type": "markdown",
   "id": "c9e8ba47",
   "metadata": {},
   "source": [
    "# 4) Apply the following models on the training dataset and generate the predicted value for the test dataset"
   ]
  },
  {
   "cell_type": "markdown",
   "id": "0e5d511e",
   "metadata": {},
   "source": [
    "## a. Decision Tree"
   ]
  },
  {
   "cell_type": "code",
   "execution_count": 240,
   "id": "94161eec",
   "metadata": {},
   "outputs": [
    {
     "name": "stdout",
     "output_type": "stream",
     "text": [
      "Decisionn Tree Classification Score is  0.8086609336609336\n"
     ]
    }
   ],
   "source": [
    "from sklearn.tree import DecisionTreeClassifier\n",
    "M1=DecisionTreeClassifier()\n",
    "M1.fit(x_train,y_train)\n",
    "print(\"Decisionn Tree Classification Score is \" ,M1.score(x_test,y_test))\n",
    "pred1=M1.predict(x_test)\n"
   ]
  },
  {
   "cell_type": "markdown",
   "id": "fc7a760f",
   "metadata": {},
   "source": [
    "## b. Random Forest Classifier "
   ]
  },
  {
   "cell_type": "code",
   "execution_count": 241,
   "id": "5576c538",
   "metadata": {},
   "outputs": [
    {
     "name": "stdout",
     "output_type": "stream",
     "text": [
      "Random Forest Classfier Score is  0.8616400491400491\n"
     ]
    }
   ],
   "source": [
    "from sklearn.ensemble import RandomForestClassifier\n",
    "M2=RandomForestClassifier()\n",
    "M2.fit(x_train,y_train)\n",
    "print(\"Random Forest Classfier Score is \",M2.score(x_test,y_test))\n",
    "pred2=M2.predict(x_test)"
   ]
  },
  {
   "cell_type": "markdown",
   "id": "e669f160",
   "metadata": {},
   "source": [
    "## c. Logistic Regression"
   ]
  },
  {
   "cell_type": "code",
   "execution_count": 242,
   "id": "69eb0e8e",
   "metadata": {},
   "outputs": [
    {
     "name": "stdout",
     "output_type": "stream",
     "text": [
      "Logistic Regression Classification Score is  0.7936117936117936\n"
     ]
    }
   ],
   "source": [
    "from sklearn.linear_model import LogisticRegression\n",
    "M3= LogisticRegression(max_iter=1000)\n",
    "M3.fit(x_train,y_train)\n",
    "print(\"Logistic Regression Classification Score is \",M3.score(x_test,y_test))\n",
    "pred3=M3.predict(x_test)\n"
   ]
  },
  {
   "cell_type": "markdown",
   "id": "1cf98ac5",
   "metadata": {},
   "source": [
    "## d. KNN Classifier "
   ]
  },
  {
   "cell_type": "code",
   "execution_count": 243,
   "id": "78a5173f",
   "metadata": {},
   "outputs": [
    {
     "name": "stdout",
     "output_type": "stream",
     "text": [
      "KNeighbors Classification Score is  0.777487714987715\n"
     ]
    }
   ],
   "source": [
    "from sklearn.neighbors import KNeighborsClassifier\n",
    "M4=KNeighborsClassifier()\n",
    "M4.fit(x_train,y_train)\n",
    "print(\"KNeighbors Classification Score is \",M4.score(x_test,y_test))\n",
    "pred4=M4.predict(x_test)"
   ]
  },
  {
   "cell_type": "markdown",
   "id": "ff88c3e1",
   "metadata": {},
   "source": [
    "## e. SVC Classifier (with linear kernel)"
   ]
  },
  {
   "cell_type": "code",
   "execution_count": 244,
   "id": "238fd9cf",
   "metadata": {},
   "outputs": [
    {
     "name": "stdout",
     "output_type": "stream",
     "text": [
      "Linear SVM Classification Score is  0.7673525798525799\n"
     ]
    }
   ],
   "source": [
    "from sklearn.svm import LinearSVC\n",
    "M5=LinearSVC(max_iter=1e-5)\n",
    "M5.fit(x_train,y_train)\n",
    "print(\"Linear SVM Classification Score is \",M5.score(x_test,y_test))\n",
    "pred5=M5.predict(x_test)"
   ]
  },
  {
   "cell_type": "markdown",
   "id": "547f5a50",
   "metadata": {},
   "source": [
    "# 5) Predict the income for test data"
   ]
  },
  {
   "cell_type": "code",
   "execution_count": 245,
   "id": "f7672b54",
   "metadata": {},
   "outputs": [
    {
     "name": "stdout",
     "output_type": "stream",
     "text": [
      "The prediction for Decision Tree is  [0 0 1 ... 0 0 0]\n"
     ]
    }
   ],
   "source": [
    "print(\"The prediction for Decision Tree is \",pred1)"
   ]
  },
  {
   "cell_type": "code",
   "execution_count": 246,
   "id": "5d97bc26",
   "metadata": {},
   "outputs": [
    {
     "name": "stdout",
     "output_type": "stream",
     "text": [
      "The prediction for Random Forest Classifier is  [0 0 0 ... 0 0 0]\n"
     ]
    }
   ],
   "source": [
    "print(\"The prediction for Random Forest Classifier is \",pred2)"
   ]
  },
  {
   "cell_type": "code",
   "execution_count": 247,
   "id": "30dab729",
   "metadata": {},
   "outputs": [
    {
     "name": "stdout",
     "output_type": "stream",
     "text": [
      "The prediction for Logistic Regression is  [0 0 0 ... 0 0 0]\n"
     ]
    }
   ],
   "source": [
    "print(\"The prediction for Logistic Regression is \",pred3)"
   ]
  },
  {
   "cell_type": "code",
   "execution_count": 248,
   "id": "8f18c7f5",
   "metadata": {},
   "outputs": [
    {
     "name": "stdout",
     "output_type": "stream",
     "text": [
      "The prediction for KNN Classifier is  [0 0 0 ... 0 0 0]\n"
     ]
    }
   ],
   "source": [
    "print(\"The prediction for KNN Classifier is \",pred4)"
   ]
  },
  {
   "cell_type": "code",
   "execution_count": 249,
   "id": "b90ea01a",
   "metadata": {},
   "outputs": [
    {
     "name": "stdout",
     "output_type": "stream",
     "text": [
      "The prediction for SVC Classifier (with linear kernal) is  [0 0 0 ... 0 0 0]\n"
     ]
    }
   ],
   "source": [
    "print(\"The prediction for SVC Classifier (with linear kernal) is \",pred5)"
   ]
  },
  {
   "cell_type": "markdown",
   "id": "e0528389",
   "metadata": {},
   "source": [
    "# 6) Compute Confusion matrix and classification report for each of these models."
   ]
  },
  {
   "cell_type": "code",
   "execution_count": 250,
   "id": "e1d95bb8",
   "metadata": {},
   "outputs": [],
   "source": [
    "from sklearn.metrics import confusion_matrix,classification_report"
   ]
  },
  {
   "cell_type": "code",
   "execution_count": 251,
   "id": "14c8213b",
   "metadata": {},
   "outputs": [],
   "source": [
    "def eval_metrics(ytest,ypred):\n",
    "    cm=confusion_matrix(ytest,ypred)\n",
    "    print(cm)\n",
    "    print(classification_report(ytest,ypred))"
   ]
  },
  {
   "cell_type": "code",
   "execution_count": 252,
   "id": "1657812d",
   "metadata": {},
   "outputs": [
    {
     "name": "stdout",
     "output_type": "stream",
     "text": [
      "Confusion matrix and classification report for Decision Tree is \n",
      "\n",
      "[[4310  687]\n",
      " [ 559  956]]\n",
      "              precision    recall  f1-score   support\n",
      "\n",
      "           0       0.89      0.86      0.87      4997\n",
      "           1       0.58      0.63      0.61      1515\n",
      "\n",
      "    accuracy                           0.81      6512\n",
      "   macro avg       0.73      0.75      0.74      6512\n",
      "weighted avg       0.81      0.81      0.81      6512\n",
      "\n"
     ]
    }
   ],
   "source": [
    "print(\"Confusion matrix and classification report for Decision Tree is \\n\")\n",
    "eval_metrics(y_test,pred1)"
   ]
  },
  {
   "cell_type": "code",
   "execution_count": 253,
   "id": "72ec3ab4",
   "metadata": {},
   "outputs": [
    {
     "name": "stdout",
     "output_type": "stream",
     "text": [
      "Confusion matrix and classification report for Random Forest Classifier is \n",
      "\n",
      "[[4633  364]\n",
      " [ 537  978]]\n",
      "              precision    recall  f1-score   support\n",
      "\n",
      "           0       0.90      0.93      0.91      4997\n",
      "           1       0.73      0.65      0.68      1515\n",
      "\n",
      "    accuracy                           0.86      6512\n",
      "   macro avg       0.81      0.79      0.80      6512\n",
      "weighted avg       0.86      0.86      0.86      6512\n",
      "\n"
     ]
    }
   ],
   "source": [
    "print(\"Confusion matrix and classification report for Random Forest Classifier is \\n\")\n",
    "eval_metrics(y_test,pred2)"
   ]
  },
  {
   "cell_type": "code",
   "execution_count": 254,
   "id": "eedb5240",
   "metadata": {},
   "outputs": [
    {
     "name": "stdout",
     "output_type": "stream",
     "text": [
      "Confusion matrix and classification report for Logistic Regression  is \n",
      "\n",
      "[[4722  275]\n",
      " [1069  446]]\n",
      "              precision    recall  f1-score   support\n",
      "\n",
      "           0       0.82      0.94      0.88      4997\n",
      "           1       0.62      0.29      0.40      1515\n",
      "\n",
      "    accuracy                           0.79      6512\n",
      "   macro avg       0.72      0.62      0.64      6512\n",
      "weighted avg       0.77      0.79      0.76      6512\n",
      "\n"
     ]
    }
   ],
   "source": [
    "print(\"Confusion matrix and classification report for Logistic Regression  is \\n\")\n",
    "eval_metrics(y_test,pred3)"
   ]
  },
  {
   "cell_type": "code",
   "execution_count": 255,
   "id": "348b8490",
   "metadata": {},
   "outputs": [
    {
     "name": "stdout",
     "output_type": "stream",
     "text": [
      "Confusion matrix and classification report for KNN Classifier is \n",
      "\n",
      "[[4571  426]\n",
      " [1023  492]]\n",
      "              precision    recall  f1-score   support\n",
      "\n",
      "           0       0.82      0.91      0.86      4997\n",
      "           1       0.54      0.32      0.40      1515\n",
      "\n",
      "    accuracy                           0.78      6512\n",
      "   macro avg       0.68      0.62      0.63      6512\n",
      "weighted avg       0.75      0.78      0.76      6512\n",
      "\n"
     ]
    }
   ],
   "source": [
    "print(\"Confusion matrix and classification report for KNN Classifier is \\n\")\n",
    "eval_metrics(y_test,pred4)"
   ]
  },
  {
   "cell_type": "code",
   "execution_count": 256,
   "id": "478bbea7",
   "metadata": {},
   "outputs": [
    {
     "name": "stdout",
     "output_type": "stream",
     "text": [
      "Confusion matrix and classification report for SVC Classifier (with linear kernel) is \n",
      "\n",
      "[[4997    0]\n",
      " [1515    0]]\n",
      "              precision    recall  f1-score   support\n",
      "\n",
      "           0       0.77      1.00      0.87      4997\n",
      "           1       0.00      0.00      0.00      1515\n",
      "\n",
      "    accuracy                           0.77      6512\n",
      "   macro avg       0.38      0.50      0.43      6512\n",
      "weighted avg       0.59      0.77      0.67      6512\n",
      "\n"
     ]
    }
   ],
   "source": [
    "print(\"Confusion matrix and classification report for SVC Classifier (with linear kernel) is \\n\")\n",
    "eval_metrics(y_test,pred5)"
   ]
  },
  {
   "cell_type": "markdown",
   "id": "86545ec7",
   "metadata": {},
   "source": [
    "# 7) Validate the result for Precision, Recall, F1-score and Accuracy for each model based on values\n"
   ]
  },
  {
   "cell_type": "code",
   "execution_count": 257,
   "id": "228073ab",
   "metadata": {},
   "outputs": [
    {
     "name": "stdout",
     "output_type": "stream",
     "text": [
      "The Validation of reesult for Precision, Recall, F1-score and Accuracy for Decision Tree\n",
      "\n",
      "when 0\n",
      "Precision for 0 is  0.8768756423432682\n",
      "Recall for 0 is  0.8656655844155844\n",
      "F1_Score for 0 is  0.871234555294598\n",
      "\n",
      "when 1\n",
      "Precision for 1 is  0.5980570734669095\n",
      "Recall for 1 is  0.6218434343434344\n",
      "F1_Score for 1 is  0.6097183534509439\n",
      "\n",
      "Accuracy for the Decision Tree Model is  0.8063574938574939\n"
     ]
    }
   ],
   "source": [
    "print(\"The Validation of reesult for Precision, Recall, F1-score and Accuracy for Decision Tree\")\n",
    "\n",
    "print(\"\\nwhen 0\")\n",
    "Precision_0=4266/(4266+599)    \n",
    "Recall_0=4266/(4266+662)\n",
    "F1_Score_0=(2*Precision_0*Recall_0)/(Precision_0+Recall_0)\n",
    "print(\"Precision for 0 is \",Precision_0)\n",
    "print(\"Recall for 0 is \",Recall_0)\n",
    "print(\"F1_Score for 0 is \",F1_Score_0)\n",
    "print(\"\\nwhen 1\")\n",
    "Precision_1=985/(985+662)\n",
    "Recall_1=985/(985+599)\n",
    "F1_Score_1=(2*Precision_1*Recall_1)/(Precision_1+Recall_1)\n",
    "print(\"Precision for 1 is \",Precision_1)\n",
    "print(\"Recall for 1 is \",Recall_1)\n",
    "print(\"F1_Score for 1 is \",F1_Score_1)\n",
    "Accuracy=(4266+985)/(4266+985+662+599)\n",
    "print(\"\\nAccuracy for the Decision Tree Model is \",Accuracy)"
   ]
  },
  {
   "cell_type": "code",
   "execution_count": 258,
   "id": "5bf7a6b1",
   "metadata": {},
   "outputs": [
    {
     "name": "stdout",
     "output_type": "stream",
     "text": [
      "The Validation of reesult for Precision, Recall, F1-score and Accuracy for Random Forest Classifier\n",
      "\n",
      "when 0\n",
      "Precision for 0 is  0.8834802606362591\n",
      "Recall for 0 is  0.9354707792207793\n",
      "F1_Score for 0 is  0.9087325054208555\n",
      "\n",
      "when 1\n",
      "Precision for 1 is  0.7542503863987635\n",
      "Recall for 1 is  0.6161616161616161\n",
      "F1_Score for 1 is  0.6782487838776928\n",
      "\n",
      "Accuracy for the Random Forest Classifier Model is  0.8580645161290322\n"
     ]
    }
   ],
   "source": [
    "print(\"The Validation of reesult for Precision, Recall, F1-score and Accuracy for Random Forest Classifier\")\n",
    "\n",
    "print(\"\\nwhen 0\")\n",
    "Precision_0=4610/(4610+608)    \n",
    "Recall_0=4610/(4610+318)\n",
    "F1_Score_0=(2*Precision_0*Recall_0)/(Precision_0+Recall_0)\n",
    "print(\"Precision for 0 is \",Precision_0)\n",
    "print(\"Recall for 0 is \",Recall_0)\n",
    "print(\"F1_Score for 0 is \",F1_Score_0)\n",
    "print(\"\\nwhen 1\")\n",
    "Precision_1=976/(976+318)\n",
    "Recall_1=976/(976+608)\n",
    "F1_Score_1=(2*Precision_1*Recall_1)/(Precision_1+Recall_1)\n",
    "print(\"Precision for 1 is \",Precision_1)\n",
    "print(\"Recall for 1 is \",Recall_1)\n",
    "print(\"F1_Score for 1 is \",F1_Score_1)\n",
    "Accuracy=(4610+976)/(4610+976+316+608)\n",
    "print(\"\\nAccuracy for the Random Forest Classifier Model is \",Accuracy)"
   ]
  },
  {
   "cell_type": "code",
   "execution_count": 259,
   "id": "967f799e",
   "metadata": {},
   "outputs": [
    {
     "name": "stdout",
     "output_type": "stream",
     "text": [
      "The Validation of reesult for Precision, Recall, F1-score and Accuracy for Logistic Regression\n",
      "\n",
      "when 0\n",
      "0.8052320675105485 0.9681412337662337 0.8792039067538929\n",
      "Precision for 0 is  0.8052320675105485\n",
      "Recall for 0 is  0.9681412337662337\n",
      "F1_Score for 0 is  0.8792039067538929\n",
      "\n",
      "when 1\n",
      "Precision for 1 is  0.7325383304940375\n",
      "Recall for 1 is  0.27146464646464646\n",
      "F1_Score for 1 is  0.3961308152924919\n",
      "\n",
      "Accuracy for the Logistic Regression Model is  0.7986793611793612\n"
     ]
    }
   ],
   "source": [
    "print(\"The Validation of reesult for Precision, Recall, F1-score and Accuracy for Logistic Regression\")\n",
    "\n",
    "print(\"\\nwhen 0\")\n",
    "Precision_0=4771/(4771+1154)    \n",
    "Recall_0=4771/(4771+157)\n",
    "F1_Score_0=(2*Precision_0*Recall_0)/(Precision_0+Recall_0)\n",
    "print(Precision_0,Recall_0,F1_Score_0)\n",
    "print(\"Precision for 0 is \",Precision_0)\n",
    "print(\"Recall for 0 is \",Recall_0)\n",
    "print(\"F1_Score for 0 is \",F1_Score_0)\n",
    "print(\"\\nwhen 1\")\n",
    "Precision_1=430/(430+157)\n",
    "Recall_1=430/(430+1154)\n",
    "F1_Score_1=(2*Precision_1*Recall_1)/(Precision_1+Recall_1)\n",
    "print(\"Precision for 1 is \",Precision_1)\n",
    "print(\"Recall for 1 is \",Recall_1)\n",
    "print(\"F1_Score for 1 is \",F1_Score_1)\n",
    "Accuracy=(4771+430)/(4771+430+157+1154)\n",
    "print(\"\\nAccuracy for the Logistic Regression Model is \",Accuracy)"
   ]
  },
  {
   "cell_type": "code",
   "execution_count": 260,
   "id": "f313557c",
   "metadata": {},
   "outputs": [
    {
     "name": "stdout",
     "output_type": "stream",
     "text": [
      "The Validation of reesult for Precision, Recall, F1-score and Accuracy for KNN Classifier \n",
      "\n",
      "when 0\n",
      "0.8064401352072585 0.9198457792207793 0.8594179543084653\n",
      "Precision for 0 is  0.8064401352072585\n",
      "Recall for 0 is  0.9198457792207793\n",
      "F1_Score for 0 is  0.8594179543084653\n",
      "\n",
      "when 1\n",
      "Precision for 1 is  0.5566778900112234\n",
      "Recall for 1 is  0.31313131313131315\n",
      "F1_Score for 1 is  0.4008080808080808\n",
      "\n",
      "Accuracy for the Logistic Regression Model is  0.7722665847665847\n"
     ]
    }
   ],
   "source": [
    "print(\"The Validation of reesult for Precision, Recall, F1-score and Accuracy for KNN Classifier \")\n",
    "\n",
    "print(\"\\nwhen 0\")\n",
    "Precision_0=4533/(4533+1088)    \n",
    "Recall_0=4533/(4533+395)\n",
    "F1_Score_0=(2*Precision_0*Recall_0)/(Precision_0+Recall_0)\n",
    "print(Precision_0,Recall_0,F1_Score_0)\n",
    "print(\"Precision for 0 is \",Precision_0)\n",
    "print(\"Recall for 0 is \",Recall_0)\n",
    "print(\"F1_Score for 0 is \",F1_Score_0)\n",
    "print(\"\\nwhen 1\")\n",
    "Precision_1=496/(496+395)\n",
    "Recall_1=496/(496+1088)\n",
    "F1_Score_1=(2*Precision_1*Recall_1)/(Precision_1+Recall_1)\n",
    "print(\"Precision for 1 is \",Precision_1)\n",
    "print(\"Recall for 1 is \",Recall_1)\n",
    "print(\"F1_Score for 1 is \",F1_Score_1)\n",
    "Accuracy=(4533+496)/(4533+496+395+1088)\n",
    "print(\"\\nAccuracy for the Logistic Regression Model is \",Accuracy)"
   ]
  },
  {
   "cell_type": "code",
   "execution_count": 261,
   "id": "82e21944",
   "metadata": {},
   "outputs": [
    {
     "name": "stdout",
     "output_type": "stream",
     "text": [
      "The Validation of reesult for Precision, Recall, F1-score and Accuracy for SVC Classifier (with linear kernel)\n",
      "when 0\n",
      "Precision for 0 is  0.7567567567567568\n",
      "Recall for 0 is  1.0\n",
      "F1_Score for 0 is  0.8615384615384616\n",
      "\n",
      "when 1\n",
      "Precision for 1 is  0.0\n",
      "Recall for 1 is  0.0\n",
      "F1_Score for 1 is  0.0\n",
      "\n",
      "Accuracy for the SVC Classifier (with linear kernel) Model is  0.7567567567567568\n"
     ]
    }
   ],
   "source": [
    "print(\"The Validation of reesult for Precision, Recall, F1-score and Accuracy for SVC Classifier (with linear kernel)\")\n",
    "\n",
    "print(\"when 0\")\n",
    "Precision_0=4928/(4928+1584)    \n",
    "Recall_0=4928/(4928+0)\n",
    "F1_Score_0=(2*Precision_0*Recall_0)/(Precision_0+Recall_0)\n",
    "print(\"Precision for 0 is \",Precision_0)\n",
    "print(\"Recall for 0 is \",Recall_0)\n",
    "print(\"F1_Score for 0 is \",F1_Score_0)\n",
    "print(\"\\nwhen 1\")\n",
    "Precision_1=0.0\n",
    "Recall_1=0/(0+1584)\n",
    "F1_Score_1=0.0 #since Precision_1 and Recall_1 are 0\n",
    "print(\"Precision for 1 is \",Precision_1)\n",
    "print(\"Recall for 1 is \",Recall_1)\n",
    "print(\"F1_Score for 1 is \",F1_Score_1)\n",
    "Accuracy=(4928+0)/(4928+0+0+1584)\n",
    "print(\"\\nAccuracy for the SVC Classifier (with linear kernel) Model is \",Accuracy)"
   ]
  },
  {
   "cell_type": "markdown",
   "id": "b8286ca3",
   "metadata": {},
   "source": [
    "# 8) Generate the percentage of misclassification in each of these models."
   ]
  },
  {
   "cell_type": "code",
   "execution_count": 262,
   "id": "36583137",
   "metadata": {},
   "outputs": [
    {
     "name": "stdout",
     "output_type": "stream",
     "text": [
      "The percentage of misclassification in Decision Tree model is 0.1875\n"
     ]
    }
   ],
   "source": [
    "mis_classification_1=(599+622)/(4266+662+599+985)\n",
    "print(\"The percentage of misclassification in Decision Tree model is\",mis_classification_1)"
   ]
  },
  {
   "cell_type": "code",
   "execution_count": 263,
   "id": "c1c150f2",
   "metadata": {},
   "outputs": [
    {
     "name": "stdout",
     "output_type": "stream",
     "text": [
      "The percentage of misclassification in Random Forest Classifier model is 0.1421990171990172\n"
     ]
    }
   ],
   "source": [
    "mis_classification_2=(608+318)/(4610+318+608+976)\n",
    "print(\"The percentage of misclassification in Random Forest Classifier model is\",mis_classification_2)"
   ]
  },
  {
   "cell_type": "code",
   "execution_count": 264,
   "id": "d4a847c9",
   "metadata": {},
   "outputs": [
    {
     "name": "stdout",
     "output_type": "stream",
     "text": [
      "The percentage of misclassification in Logistic Regression model is 0.20132063882063883\n"
     ]
    }
   ],
   "source": [
    "mis_classification_3=(1154+157)/(4771+157+1154+430)\n",
    "print(\"The percentage of misclassification in Logistic Regression model is\",mis_classification_3)"
   ]
  },
  {
   "cell_type": "code",
   "execution_count": 265,
   "id": "167f062e",
   "metadata": {},
   "outputs": [
    {
     "name": "stdout",
     "output_type": "stream",
     "text": [
      "The percentage of misclassification inKNN Classifier model is 0.22773341523341523\n"
     ]
    }
   ],
   "source": [
    "mis_classification_4=(1088+395)/(4533+395+1088+496)\n",
    "print(\"The percentage of misclassification inKNN Classifier model is\",mis_classification_4)"
   ]
  },
  {
   "cell_type": "code",
   "execution_count": 266,
   "id": "5dbc255f",
   "metadata": {},
   "outputs": [
    {
     "name": "stdout",
     "output_type": "stream",
     "text": [
      "The percentage of misclassification in SVC Classifier (with linear kernel) model is 0.24324324324324326\n"
     ]
    }
   ],
   "source": [
    "mis_classification_5=(1584+0)/(4928+0+0+1584)\n",
    "print(\"The percentage of misclassification in SVC Classifier (with linear kernel) model is\",mis_classification_5)"
   ]
  },
  {
   "cell_type": "markdown",
   "id": "8321bb90",
   "metadata": {},
   "source": [
    "# 9) Report the model with the best accuracy."
   ]
  },
  {
   "cell_type": "markdown",
   "id": "be82aa45",
   "metadata": {},
   "source": [
    "#### The model with best Accuracy is Random Forest Classifier Model "
   ]
  },
  {
   "cell_type": "code",
   "execution_count": 267,
   "id": "13400864",
   "metadata": {},
   "outputs": [],
   "source": [
    "def mscore(model):\n",
    "    print(\"Training Score\",model.score(x_train,y_train))\n",
    "    print(\"Testing Score\",model.score(x_test,y_test))"
   ]
  },
  {
   "cell_type": "code",
   "execution_count": 268,
   "id": "bb7bfbcb",
   "metadata": {},
   "outputs": [
    {
     "name": "stdout",
     "output_type": "stream",
     "text": [
      "Training Score 1.0\n",
      "Testing Score 0.8086609336609336\n"
     ]
    }
   ],
   "source": [
    "mscore(M1)"
   ]
  },
  {
   "cell_type": "code",
   "execution_count": 269,
   "id": "51f1f390",
   "metadata": {},
   "outputs": [
    {
     "name": "stdout",
     "output_type": "stream",
     "text": [
      "Training Score 1.0\n",
      "Testing Score 0.8616400491400491\n"
     ]
    }
   ],
   "source": [
    "mscore(M2)"
   ]
  },
  {
   "cell_type": "code",
   "execution_count": 270,
   "id": "6d5cd529",
   "metadata": {},
   "outputs": [
    {
     "name": "stdout",
     "output_type": "stream",
     "text": [
      "Training Score 0.7853961916461917\n",
      "Testing Score 0.7936117936117936\n"
     ]
    }
   ],
   "source": [
    "mscore(M3)"
   ]
  },
  {
   "cell_type": "code",
   "execution_count": 271,
   "id": "24766446",
   "metadata": {},
   "outputs": [
    {
     "name": "stdout",
     "output_type": "stream",
     "text": [
      "Training Score 0.8339987714987716\n",
      "Testing Score 0.777487714987715\n"
     ]
    }
   ],
   "source": [
    "mscore(M4)"
   ]
  },
  {
   "cell_type": "code",
   "execution_count": 272,
   "id": "339b3602",
   "metadata": {},
   "outputs": [
    {
     "name": "stdout",
     "output_type": "stream",
     "text": [
      "Training Score 0.7571406633906634\n",
      "Testing Score 0.7673525798525799\n"
     ]
    }
   ],
   "source": [
    "mscore(M5)"
   ]
  },
  {
   "cell_type": "markdown",
   "id": "34cad9ef",
   "metadata": {},
   "source": [
    "# CONCLUSION\n"
   ]
  },
  {
   "cell_type": "markdown",
   "id": "4c4fdabb",
   "metadata": {},
   "source": [
    "### The classification model to predict whether a person makes over $50k a year is created"
   ]
  },
  {
   "cell_type": "markdown",
   "id": "320a7b3c",
   "metadata": {},
   "source": [
    "### The model with best Accuracy is Random Forest Classifier Model "
   ]
  }
 ],
 "metadata": {
  "kernelspec": {
   "display_name": "Python 3 (ipykernel)",
   "language": "python",
   "name": "python3"
  },
  "language_info": {
   "codemirror_mode": {
    "name": "ipython",
    "version": 3
   },
   "file_extension": ".py",
   "mimetype": "text/x-python",
   "name": "python",
   "nbconvert_exporter": "python",
   "pygments_lexer": "ipython3",
   "version": "3.9.12"
  }
 },
 "nbformat": 4,
 "nbformat_minor": 5
}
